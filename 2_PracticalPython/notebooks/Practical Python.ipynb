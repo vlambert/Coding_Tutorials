{
 "cells": [
  {
   "cell_type": "markdown",
   "metadata": {
    "nbgrader": {
     "cell_type": "markdown",
     "checksum": "8cb44d74e65859c11400e4acbd2735c7",
     "grade": false,
     "grade_id": "cell-133eb1fb35cb73ff",
     "locked": true,
     "schema_version": 3,
     "solution": false,
     "task": false
    }
   },
   "source": [
    "# Part 2: Introduction to NumPy and a first plot\n",
    "\n",
    "In Part 1, we looked at some basic elements of the Python programming language. Now we're going to look at some additional features of the language and introduce a powerful 'package' for carrying out computational tasks in python. The objectives of this part of the exercise are:\n",
    "\n",
    "1. Introduce the NumPy package and learn how to access it.\n",
    "2. Introduce the NumPy array data type.\n",
    "3. Use a loop to perform an operation on data stored in an array.\n",
    "4. Make a simple graph (plot)"
   ]
  },
  {
   "cell_type": "markdown",
   "metadata": {
    "nbgrader": {
     "cell_type": "markdown",
     "checksum": "d178c659c218b7153311ddb468cbdbe2",
     "grade": false,
     "grade_id": "cell-df05ad1903d1aa3e",
     "locked": true,
     "schema_version": 3,
     "solution": false,
     "task": false
    }
   },
   "source": [
    "# NumPy\n",
    "\n",
    "NumPy is an example of a Python *package*, which is a collection of functions and data structures that can be loaded and used in your programs. Almost everything that we will do in this course will make use of NumPy in some way. The core functionality in numpy is the introduction of an *array* data type, which can hold a list of floating-point values. NumPy contains a variety of different functions to efficiently access and manipulate data stored in arrays.\n",
    "\n",
    "To load numpy, we use the special python command 'import':\n",
    "\n",
    "'''import numpy as np'''\n",
    "\n",
    "If at any time you need help with NumPy, you can access the help by clicking the **Help** menu above and then clicking **NumPy Reference**"
   ]
  },
  {
   "cell_type": "code",
   "execution_count": 2,
   "metadata": {
    "nbgrader": {
     "cell_type": "code",
     "checksum": "22f99485af634fc495b8d855a67773e1",
     "grade": false,
     "grade_id": "cell-dd29a77f42c2eeb8",
     "locked": true,
     "schema_version": 3,
     "solution": false,
     "task": false
    }
   },
   "outputs": [],
   "source": [
    "#This will import all of the numpy functions and assign them the prefix 'np'\n",
    "import numpy as np"
   ]
  },
  {
   "cell_type": "markdown",
   "metadata": {
    "nbgrader": {
     "cell_type": "markdown",
     "checksum": "7cbfd0ebaf12121f500ac81ac8d691b3",
     "grade": false,
     "grade_id": "cell-680f282663c9588c",
     "locked": true,
     "schema_version": 3,
     "solution": false,
     "task": false
    }
   },
   "source": [
    "As a first example, let's create a numpy array containing a list of numbers between 0-10."
   ]
  },
  {
   "cell_type": "code",
   "execution_count": 3,
   "metadata": {
    "nbgrader": {
     "cell_type": "code",
     "checksum": "699c627ae14abf9b8ca402edd5bd8b3a",
     "grade": false,
     "grade_id": "cell-a61f2e401349474e",
     "locked": true,
     "schema_version": 3,
     "solution": false,
     "task": false
    }
   },
   "outputs": [
    {
     "name": "stdout",
     "output_type": "stream",
     "text": [
      "[ 1  2  3  4  5  6  7  8  9 10]\n"
     ]
    }
   ],
   "source": [
    "# Note - the data enclosed by square brackets [] are a list of numbers.\n",
    "x = np.array([1,2,3,4,5,6,7,8,9,10])\n",
    "print(x)"
   ]
  },
  {
   "cell_type": "markdown",
   "metadata": {
    "deletable": false,
    "editable": false,
    "nbgrader": {
     "cell_type": "markdown",
     "checksum": "cd0140b56100a604872c7c5a02a25b82",
     "grade": false,
     "grade_id": "cell-3b98749805045193",
     "locked": true,
     "schema_version": 3,
     "solution": false,
     "task": false
    }
   },
   "source": [
    "As you can see, x contains the numbers between 1-10. The array has some important properties that we can examine. First, its shape:"
   ]
  },
  {
   "cell_type": "code",
   "execution_count": 9,
   "metadata": {
    "nbgrader": {
     "cell_type": "code",
     "checksum": "f920bfcd8e55040cc7e9d723546f9f1f",
     "grade": false,
     "grade_id": "cell-36aee08ec4ab52dc",
     "locked": true,
     "schema_version": 3,
     "solution": false,
     "task": false
    }
   },
   "outputs": [
    {
     "name": "stdout",
     "output_type": "stream",
     "text": [
      "(10,)\n"
     ]
    }
   ],
   "source": [
    "print(x.shape)"
   ]
  },
  {
   "cell_type": "markdown",
   "metadata": {
    "deletable": false,
    "editable": false,
    "nbgrader": {
     "cell_type": "markdown",
     "checksum": "12ca61ea0e19a0998804e9de8922bb8f",
     "grade": false,
     "grade_id": "cell-d29fd48227b1aec9",
     "locked": true,
     "schema_version": 3,
     "solution": false,
     "task": false
    }
   },
   "source": [
    "One-dimensional arrays in NumPy also have a well-defined property called 'size'. Print out the size of x below:"
   ]
  },
  {
   "cell_type": "code",
   "execution_count": 10,
   "metadata": {
    "nbgrader": {
     "cell_type": "code",
     "checksum": "756bdfc925626182d4f83a43956b321c",
     "grade": true,
     "grade_id": "cell-10f2635f881fd17e",
     "locked": false,
     "points": 1,
     "schema_version": 3,
     "solution": true,
     "task": false
    }
   },
   "outputs": [
    {
     "name": "stdout",
     "output_type": "stream",
     "text": [
      "10\n"
     ]
    }
   ],
   "source": [
    "print(np.size(x))"
   ]
  },
  {
   "cell_type": "markdown",
   "metadata": {
    "deletable": false,
    "editable": false,
    "nbgrader": {
     "cell_type": "markdown",
     "checksum": "1bfc7cd5846a7c7c94e02b6b68988930",
     "grade": false,
     "grade_id": "cell-124182170208b292",
     "locked": true,
     "schema_version": 3,
     "solution": false,
     "task": false
    }
   },
   "source": [
    "As we can see above, the shape of x is (10,). This means that the array has only one dimension and that it's 10 elements long. NumPy can store multidimensional data (like matrices or 3D volume data) as 2- or 3- dimensional arrays, which we will examine later.\n",
    "\n",
    "Now, what can we do with the data once it's stored in an array? One thing that we might want to do is calculate the mean of the values in the array and assign the mean to a new variable called x_mean. NumPy has some functionality that allows us to calculate the mean with a single command."
   ]
  },
  {
   "cell_type": "code",
   "execution_count": 11,
   "metadata": {
    "nbgrader": {
     "cell_type": "code",
     "checksum": "0b9ee435502e6f25c0c11e6e5e93f67a",
     "grade": false,
     "grade_id": "cell-ed459bef625be713",
     "locked": true,
     "schema_version": 3,
     "solution": false,
     "task": false
    }
   },
   "outputs": [
    {
     "name": "stdout",
     "output_type": "stream",
     "text": [
      "5.5\n"
     ]
    }
   ],
   "source": [
    "x_mean = x.mean()\n",
    "print(x_mean)"
   ]
  },
  {
   "cell_type": "markdown",
   "metadata": {
    "nbgrader": {
     "cell_type": "markdown",
     "checksum": "b32fde14ceb2ca974de2bc9948d4dd8a",
     "grade": false,
     "grade_id": "cell-5a4501aca93b7f45",
     "locked": true,
     "schema_version": 3,
     "solution": false,
     "task": false
    }
   },
   "source": [
    "The command above is a little bit different from those that we've seen before. Taking apart the syntax:\n",
    "- 'x' tells Python that we want to do something with the variable 'x'.\n",
    "- The '.' after x tells Python that we want to access some property of *method* of 'x'. A method is a function that runs on 'x'. A NumPy array has many different methods built in that can be used to manipulate its values.\n",
    "- 'mean()' tells Python that we want to calculate the mean of the values in x.\n",
    "\n",
    "To see a full list of the built-in methods that can act on a numpy array, go to Help->NumPy Reference and then click on 'ndarray'."
   ]
  },
  {
   "cell_type": "markdown",
   "metadata": {
    "deletable": false,
    "editable": false,
    "nbgrader": {
     "cell_type": "markdown",
     "checksum": "3627ec384fd8104dd117b44a9c1bcc2d",
     "grade": false,
     "grade_id": "cell-e7c8f7070489c744",
     "locked": true,
     "schema_version": 3,
     "solution": false,
     "task": false
    }
   },
   "source": [
    "# Task:\n",
    "Use the NumPy documentation for 'ndarray' (see above) to find out how to calculate the sum of all of the elements in the array x. Assign the result to the variable 'x_sum':"
   ]
  },
  {
   "cell_type": "code",
   "execution_count": 12,
   "metadata": {
    "nbgrader": {
     "cell_type": "code",
     "checksum": "daa439024f47cfcdc54847d85e5632ba",
     "grade": false,
     "grade_id": "cell-39e5b34d2fe704bc",
     "locked": false,
     "schema_version": 3,
     "solution": true,
     "task": false
    }
   },
   "outputs": [],
   "source": [
    "x_sum = np.sum(x)"
   ]
  },
  {
   "cell_type": "code",
   "execution_count": 14,
   "metadata": {
    "nbgrader": {
     "cell_type": "code",
     "checksum": "de334d5313ae0f424df90e16ece30321",
     "grade": true,
     "grade_id": "cell-a3f7cd1fe66403b8",
     "locked": true,
     "points": 1,
     "schema_version": 3,
     "solution": false,
     "task": false
    }
   },
   "outputs": [],
   "source": [
    "assert(x_sum == 55)"
   ]
  },
  {
   "cell_type": "markdown",
   "metadata": {},
   "source": [
    "We can interact with NumPy arrays much like lists:"
   ]
  },
  {
   "cell_type": "code",
   "execution_count": 15,
   "metadata": {
    "nbgrader": {
     "cell_type": "code",
     "checksum": "3a85b61d85590f69e8fc07d670b7d00f",
     "grade": true,
     "grade_id": "cell-9c475608cc25e96c",
     "locked": false,
     "points": 1,
     "schema_version": 3,
     "solution": true,
     "task": false
    }
   },
   "outputs": [
    {
     "name": "stdout",
     "output_type": "stream",
     "text": [
      "1\n",
      "2\n",
      "3\n",
      "4\n",
      "5\n",
      "6\n",
      "7\n",
      "8\n",
      "9\n",
      "10\n"
     ]
    }
   ],
   "source": [
    "for value in x:\n",
    "    print(value)\n",
    "    "
   ]
  },
  {
   "cell_type": "markdown",
   "metadata": {
    "nbgrader": {
     "cell_type": "markdown",
     "checksum": "a0f653d1c0f058912b48b1160c21cfa4",
     "grade": false,
     "grade_id": "cell-8921c911db228c83",
     "locked": true,
     "schema_version": 3,
     "solution": false,
     "task": false
    }
   },
   "source": [
    "Sometimes it is useful to read or modify the value at a specific location in an array. In Python, we access the value at a specific location in an array using its *index*. In Python, the first item in an array has the index '0' and the last item has an index of 'N-1' where 'N' is the length of the array.\n",
    "\n",
    "We can access a specific item in x using the syntax:\n",
    "``x[index]``\n",
    "\n",
    "For example, if we want the second item, we can type:\n",
    "``x[1]``\n",
    "(remember: the second item has an index of 1, because the first item has an index of 0).\n",
    "Use the cell below to experiment with accessing elements in x. Try accessing an element with an index greater than (N-1) or less than 0 and think about what happens."
   ]
  },
  {
   "cell_type": "code",
   "execution_count": 37,
   "metadata": {
    "nbgrader": {
     "cell_type": "code",
     "checksum": "b1784371446929bc9bb4680e6531fedf",
     "grade": true,
     "grade_id": "cell-c49f9b6d99c6105d",
     "locked": false,
     "points": 1,
     "schema_version": 3,
     "solution": true,
     "task": false
    }
   },
   "outputs": [
    {
     "name": "stdout",
     "output_type": "stream",
     "text": [
      "[1 2 3 4 5 6 7 8 9 0]\n"
     ]
    }
   ],
   "source": [
    "x[-1]\n",
    "\n",
    "x[-1]=0\n",
    "\n",
    "print(x)"
   ]
  },
  {
   "cell_type": "markdown",
   "metadata": {},
   "source": [
    "NumPy is particularly useful in running element-wise calculations. "
   ]
  },
  {
   "cell_type": "code",
   "execution_count": 16,
   "metadata": {},
   "outputs": [
    {
     "name": "stdout",
     "output_type": "stream",
     "text": [
      "[1, 4, 9, 16, 25]  using  <class 'list'>\n",
      "[ 1  4  9 16 25]  using  <class 'numpy.ndarray'>\n"
     ]
    }
   ],
   "source": [
    "# using a list:\n",
    "a = [1,2,3,4,5]\n",
    "b = []\n",
    "for v in a:\n",
    "    b.append(v**2)\n",
    "print(b,' using ', str(type(b)))\n",
    "\n",
    "# using numpy:\n",
    "arr = np.array(a)\n",
    "b = arr**2\n",
    "print(b,' using ', str(type(b)))\n",
    "    "
   ]
  },
  {
   "cell_type": "markdown",
   "metadata": {},
   "source": [
    "NumPy also supports more complicated mathematical functions and matrix operations"
   ]
  },
  {
   "cell_type": "code",
   "execution_count": 62,
   "metadata": {},
   "outputs": [
    {
     "name": "stdout",
     "output_type": "stream",
     "text": [
      "[[1. 0. 0.]\n",
      " [0. 1. 0.]\n",
      " [0. 0. 1.]]\n",
      "[[0.29129945 0.57845368 0.7163984 ]\n",
      " [0.52283978 0.49583813 0.71172293]\n",
      " [0.99809354 0.96006256 0.38756811]]\n",
      "[[0.29129945 0.57845368 0.7163984 ]\n",
      " [0.52283978 0.49583813 0.71172293]\n",
      " [0.99809354 0.96006256 0.38756811]]\n",
      "[[0.29129945 0.         0.        ]\n",
      " [0.         0.49583813 0.        ]\n",
      " [0.         0.         0.38756811]]\n"
     ]
    }
   ],
   "source": [
    "I = np.eye(3)\n",
    "A = np.random.random((3,3))\n",
    "B = np.matmul(A,I)\n",
    "print(I)\n",
    "print(A)\n",
    "print(B)\n",
    "# not the same as the element-wise calculation\n",
    "print(I*A)"
   ]
  },
  {
   "cell_type": "markdown",
   "metadata": {},
   "source": [
    "# Making a simple plot\n",
    "\n",
    "There is a Python package called matplotlib that contains functions for preparing figures and visualizing data. Let's go through an example of how to plot the values of a function and prepare a neatly labeled figure:"
   ]
  },
  {
   "cell_type": "code",
   "execution_count": 22,
   "metadata": {
    "nbgrader": {
     "cell_type": "markdown",
     "checksum": "ff61f394a24c86530dafc0f1a6e61e25",
     "grade": false,
     "grade_id": "cell-39ebeca41b40a175",
     "locked": true,
     "schema_version": 3,
     "solution": false,
     "task": false
    }
   },
   "outputs": [
    {
     "data": {
      "image/png": "[encoded data removed]",
      "text/plain": [
       "<Figure size 640x480 with 1 Axes>"
      ]
     },
     "metadata": {},
     "output_type": "display_data"
    }
   ],
   "source": [
    "import matplotlib.pyplot as plt\n",
    "plt.figure()                        # This creates a new figure window\n",
    "t = np.linspace(-1.0,1.0,200)       # Generate 200 uniformly spaced values between -1.0 and 1.0\n",
    "y = np.cos(np.pi*t)                 # Calculate cos(pi*t)\n",
    "y2 = np.sin(np.pi*t)\n",
    "plt.plot(t,y,label='cos($\\pi t$)')  # plot t on the horizontal axis and y on the vertical axis. label the curve.\n",
    "plt.plot(t,y2,label='sin($\\pi t$)')\n",
    "plt.legend()                        # add a legend. the label in the legend is taken from the previous 'label'\n",
    "plt.xlabel('x')\n",
    "plt.ylabel('y')\n",
    "plt.title('My plot')\n",
    "plt.show()                          # show the plot"
   ]
  },
  {
   "cell_type": "markdown",
   "metadata": {},
   "source": [
    "# Saving and loading data\n",
    "\n",
    "In Python, there are a number of ways to save and load data to and from files, including with different packages. Here we will look at saving and loading data to .csv files using Pandas, which is a package that has tons of useful functionality for dealing with tabulated data."
   ]
  },
  {
   "cell_type": "code",
   "execution_count": 115,
   "metadata": {},
   "outputs": [
    {
     "name": "stdout",
     "output_type": "stream",
     "text": [
      "[4.17022005e+00 7.20324493e+00 1.14374817e-03 3.02332573e+00\n",
      " 1.46755891e+00 9.23385948e-01 1.86260211e+00 3.45560727e+00\n",
      " 3.96767474e+00 5.38816734e+00 4.19194514e+00 6.85219500e+00\n",
      " 2.04452250e+00 8.78117436e+00 2.73875932e-01 6.70467510e+00\n",
      " 4.17304802e+00 5.58689828e+00 1.40386939e+00 1.98101489e+00\n",
      " 8.00744569e+00 9.68261576e+00 3.13424178e+00 6.92322616e+00\n",
      " 8.76389152e+00 8.94606664e+00 8.50442114e-01 3.90547832e-01\n",
      " 1.69830420e+00 8.78142503e+00 9.83468338e-01 4.21107625e+00\n",
      " 9.57889530e+00 5.33165285e+00 6.91877114e+00 3.15515631e+00\n",
      " 6.86500928e+00 8.34625672e+00 1.82882773e-01 7.50144315e+00\n",
      " 9.88861089e+00 7.48165654e+00 2.80443992e+00 7.89279328e+00\n",
      " 1.03226007e+00 4.47893526e+00 9.08595503e+00 2.93614148e+00\n",
      " 2.87775339e+00 1.30028572e+00 1.93669579e-01 6.78835533e+00\n",
      " 2.11628116e+00 2.65546659e+00 4.91573159e+00 5.33625451e-01\n",
      " 5.74117605e+00 1.46728575e+00 5.89305537e+00 6.99758360e+00\n",
      " 1.02334429e+00 4.14055988e+00 6.94400158e+00 4.14179270e+00\n",
      " 4.99534589e-01 5.35896406e+00 6.63794645e+00 5.14889112e+00\n",
      " 9.44594756e+00 5.86555041e+00 9.03401915e+00 1.37474704e+00\n",
      " 1.39276347e+00 8.07391289e+00 3.97676837e+00 1.65354197e+00\n",
      " 9.27508580e+00 3.47765860e+00 7.50812103e+00 7.25997985e+00\n",
      " 8.83306091e+00 6.23672207e+00 7.50942434e+00 3.48898342e+00\n",
      " 2.69927892e+00 8.95886218e+00 4.28091190e+00 9.64840047e+00\n",
      " 6.63441498e+00 6.21695720e+00 1.14745973e+00 9.49489259e+00\n",
      " 4.49912133e+00 5.78389614e+00 4.08136803e+00 2.37026980e+00\n",
      " 9.03379521e+00 5.73679487e+00 2.87032703e-02 6.17144914e+00]\n"
     ]
    }
   ],
   "source": [
    "import pandas as pd    # useful for dealing with tabulated data\n",
    "\n",
    "# Make a data set\n",
    "nd = 100                              # number of data points\n",
    "time = np.linspace(0.0,1.0,nd)    \n",
    "\n",
    "np.random.seed(1)\n",
    "x_pos = np.random.uniform(0.,10.,nd) # choose random positions the x direction\n",
    "y_pos = np.sin(0.5*np.pi*time)       # calculate y position as a cosine function of time\n",
    "\n",
    "mu, sigma = 1, 0.5                   # Define a mean and standard deviation\n",
    "value = np.random.normal(mu,sigma,nd)     # choose random values from a normal distribution\n",
    "\n",
    "print(x_pos)\n",
    "# Open a new blank file in write mode 'w'\n",
    "file_name = 'our_fake_data.csv'\n",
    "f = open(file_name,'w')\n",
    "\n",
    "f.write('time,x_pos,y_pos,value\\n')  # write a header so we know what the columns refer to\n",
    "\n",
    "# Write an entry to file for each data point\n",
    "for event in range(0,nd,1):\n",
    "    f.write('{},{},{},{}\\n'.format(time[event],x_pos[event],y_pos[event],value[event]))\n",
    "            \n",
    "# close the file\n",
    "f.close()"
   ]
  },
  {
   "cell_type": "markdown",
   "metadata": {},
   "source": [
    "The last code block should have created a .cvs file, which can be read easily using various libraries. Here, we will us Pandas again to read back in the data. \n",
    "\n",
    "You can check out all of the functionalities pandas provides you by clicking the Help menu above and then clicking pandas Reference"
   ]
  },
  {
   "cell_type": "code",
   "execution_count": 116,
   "metadata": {},
   "outputs": [
    {
     "data": {
      "text/html": [
       "<div>\n",
       "<style scoped>\n",
       "    .dataframe tbody tr th:only-of-type {\n",
       "        vertical-align: middle;\n",
       "    }\n",
       "\n",
       "    .dataframe tbody tr th {\n",
       "        vertical-align: top;\n",
       "    }\n",
       "\n",
       "    .dataframe thead th {\n",
       "        text-align: right;\n",
       "    }\n",
       "</style>\n",
       "<table border=\"1\" class=\"dataframe\">\n",
       "  <thead>\n",
       "    <tr style=\"text-align: right;\">\n",
       "      <th></th>\n",
       "      <th>time</th>\n",
       "      <th>x_pos</th>\n",
       "      <th>y_pos</th>\n",
       "      <th>value</th>\n",
       "    </tr>\n",
       "  </thead>\n",
       "  <tbody>\n",
       "    <tr>\n",
       "      <th>0</th>\n",
       "      <td>0.000000</td>\n",
       "      <td>4.170220</td>\n",
       "      <td>0.000000</td>\n",
       "      <td>1.157817</td>\n",
       "    </tr>\n",
       "    <tr>\n",
       "      <th>1</th>\n",
       "      <td>0.010101</td>\n",
       "      <td>7.203245</td>\n",
       "      <td>0.015866</td>\n",
       "      <td>-0.011101</td>\n",
       "    </tr>\n",
       "    <tr>\n",
       "      <th>2</th>\n",
       "      <td>0.020202</td>\n",
       "      <td>0.001144</td>\n",
       "      <td>0.031728</td>\n",
       "      <td>0.846898</td>\n",
       "    </tr>\n",
       "    <tr>\n",
       "      <th>3</th>\n",
       "      <td>0.030303</td>\n",
       "      <td>3.023326</td>\n",
       "      <td>0.047582</td>\n",
       "      <td>1.413987</td>\n",
       "    </tr>\n",
       "    <tr>\n",
       "      <th>4</th>\n",
       "      <td>0.040404</td>\n",
       "      <td>1.467559</td>\n",
       "      <td>0.063424</td>\n",
       "      <td>1.115047</td>\n",
       "    </tr>\n",
       "    <tr>\n",
       "      <th>5</th>\n",
       "      <td>0.050505</td>\n",
       "      <td>0.923386</td>\n",
       "      <td>0.079250</td>\n",
       "      <td>1.381006</td>\n",
       "    </tr>\n",
       "    <tr>\n",
       "      <th>6</th>\n",
       "      <td>0.060606</td>\n",
       "      <td>1.862602</td>\n",
       "      <td>0.095056</td>\n",
       "      <td>0.888836</td>\n",
       "    </tr>\n",
       "    <tr>\n",
       "      <th>7</th>\n",
       "      <td>0.070707</td>\n",
       "      <td>3.455607</td>\n",
       "      <td>0.110838</td>\n",
       "      <td>0.899621</td>\n",
       "    </tr>\n",
       "    <tr>\n",
       "      <th>8</th>\n",
       "      <td>0.080808</td>\n",
       "      <td>3.967675</td>\n",
       "      <td>0.126592</td>\n",
       "      <td>1.093281</td>\n",
       "    </tr>\n",
       "    <tr>\n",
       "      <th>9</th>\n",
       "      <td>0.090909</td>\n",
       "      <td>5.388167</td>\n",
       "      <td>0.142315</td>\n",
       "      <td>1.205026</td>\n",
       "    </tr>\n",
       "  </tbody>\n",
       "</table>\n",
       "</div>"
      ],
      "text/plain": [
       "       time     x_pos     y_pos     value\n",
       "0  0.000000  4.170220  0.000000  1.157817\n",
       "1  0.010101  7.203245  0.015866 -0.011101\n",
       "2  0.020202  0.001144  0.031728  0.846898\n",
       "3  0.030303  3.023326  0.047582  1.413987\n",
       "4  0.040404  1.467559  0.063424  1.115047\n",
       "5  0.050505  0.923386  0.079250  1.381006\n",
       "6  0.060606  1.862602  0.095056  0.888836\n",
       "7  0.070707  3.455607  0.110838  0.899621\n",
       "8  0.080808  3.967675  0.126592  1.093281\n",
       "9  0.090909  5.388167  0.142315  1.205026"
      ]
     },
     "execution_count": 116,
     "metadata": {},
     "output_type": "execute_result"
    }
   ],
   "source": [
    "# Now we will read back in that same data\n",
    "my_data = pd.read_csv(file_name)\n",
    "\n",
    "my_data.head(10)  # We can use the Pandas head() function to check out the first n=10 lines of the data file"
   ]
  },
  {
   "cell_type": "code",
   "execution_count": 125,
   "metadata": {},
   "outputs": [
    {
     "data": {
      "image/png": "[encoded data removed]",
      "text/plain": [
       "<Figure size 900x400 with 3 Axes>"
      ]
     },
     "metadata": {},
     "output_type": "display_data"
    }
   ],
   "source": [
    "# scatter plot x-y colored by time, histogram of values, \n",
    "fig,ax = plt.subplots(1,2,figsize=[9,4])\n",
    "\n",
    "# First we will make a scatter plot of the x-y positions, with data points colored by time\n",
    "colors = time       \n",
    "ax1 = ax[0].scatter(x_pos,y_pos,s=25,c=colors)\n",
    "ax[0].set_xlabel('x position')\n",
    "ax[0].set_ylabel('y position')\n",
    "\n",
    "cb1 = plt.colorbar(ax1,ax=ax[0])   # create a colorbar\n",
    "cb1.set_label('Time')\n",
    "                \n",
    "# We will also make a histogram of the values for all of the data points\n",
    "ax[1].hist(value,bins=np.arange(np.min(value),np.max(value),0.1))\n",
    "ax[1].set_xlabel('Value')\n",
    "ax[1].set_ylabel('Count')\n",
    "\n",
    "plt.tight_layout()\n",
    "\n",
    "# Save plot as a png file\n",
    "fig.savefig('data_plot.png')"
   ]
  },
  {
   "cell_type": "markdown",
   "metadata": {
    "nbgrader": {
     "cell_type": "markdown",
     "checksum": "8d07e1c4f0c73a5e2041c64242c7277a",
     "grade": false,
     "grade_id": "cell-7eccc9f8ea710f1b",
     "locked": true,
     "schema_version": 3,
     "solution": false,
     "task": false
    }
   },
   "source": [
    "# Bonus Tasks:\n",
    "\n",
    "Make a plot of the function $f(x)=x^2$ over the interval $-2\\le x \\le 2$. Use a black line to plot the function. Label the horizontal axis 'x' and the vertical axis 'f(x)'. Add a legend with the formula for the function.\n",
    "\n",
    "*Hint:* To change the line style of the curve, see the documentation for 'plot' by selecting **Help->Matplotlib Reference** above. Then click on Tutorials and look at the 'pyplot' tutorial"
   ]
  },
  {
   "cell_type": "code",
   "execution_count": 27,
   "metadata": {
    "deletable": false,
    "nbgrader": {
     "cell_type": "code",
     "checksum": "1bb3bf3eb7a4dd4f073e2e76d97f4935",
     "grade": true,
     "grade_id": "cell-009e7b4f3cb5cb94",
     "locked": false,
     "points": 4,
     "schema_version": 3,
     "solution": true,
     "task": false
    }
   },
   "outputs": [
    {
     "data": {
      "image/png": "[encoded data removed]",
      "text/plain": [
       "<Figure size 432x288 with 1 Axes>"
      ]
     },
     "metadata": {
      "needs_background": "light"
     },
     "output_type": "display_data"
    }
   ],
   "source": [
    "import matplotlib.pyplot as plt\n",
    "plt.figure()                        # make figure window\n",
    "x = np.linspace(-2,2,100)           # Generate 100 uniformly spaced values between -2.0 and 2.0\n",
    "y = x**2                            # Calculate x^2 \n",
    "plt.plot(x,y,'k',label='f(x) = x^2')# plot x on the horizontal axis and f(x) on the vertical axis. \n",
    "plt.legend()                        # add a legend. the label in the legend is taken from the previous 'label'\n",
    "plt.xlabel('x')\n",
    "plt.ylabel('f(x)')\n",
    "plt.show()                          # show the plot"
   ]
  },
  {
   "cell_type": "markdown",
   "metadata": {},
   "source": [
    "## Next:\n",
    "\n",
    "Make a figure with three subplots over the interval $-2\\le x \\le 2$:\n",
    "1. a plot of the function $f(x)=x^2$\n",
    "\n",
    "2. a plot of its numerical derivative: \n",
    "$$ f'(x_i) \\sim \\dfrac{f(x_{i+1}) - f(x_i)}{x_{i+1}-x_i}$$\n",
    "\n",
    "3. a plot of its numberical integration:\n",
    "$$ \\int_0^x f(x) dx \\sim \\sum_{i<x/\\Delta x} f(x_{i})({x_{i+1}-x_i}) $$\n",
    "\n",
    "*Hint*: Check out the documentation for np.diff and np.cumsum"
   ]
  },
  {
   "cell_type": "code",
   "execution_count": 82,
   "metadata": {},
   "outputs": [
    {
     "data": {
      "image/png": "[encoded data removed]",
      "text/plain": [
       "<Figure size 300x600 with 3 Axes>"
      ]
     },
     "metadata": {},
     "output_type": "display_data"
    }
   ],
   "source": [
    "fig,ax = plt.subplots(3,1,figsize=[3,6],sharex=True)\n",
    "x = np.linspace(-2,2,100)           # Generate 100 uniformly spaced values between -2.0 and 2.0\n",
    "\n",
    "y = x**2                            # Calculate x^2 \n",
    "ax[0].plot(x,y,\n",
    "           'k')                     # plot x on the horizontal axis and f(x) on the vertical axis, with line color in black 'k'\n",
    "ax[0].set_ylabel('f(x)')           \n",
    "\n",
    "dydx = np.diff(y)/np.diff(x)        \n",
    "ax[1].plot(x[:-1],dydx,             # plot derivative with line color in red 'r'\n",
    "           'r')\n",
    "ax[1].set_ylabel('f`(x)')\n",
    "\n",
    "# Calculate the derivative numerically\n",
    "dx = x[1]-x[0]\n",
    "inty = np.cumsum(y*dx)\n",
    "ax[2].plot(x,inty,                  # plot integral with line color in blue 'b'\n",
    "           'b')\n",
    "ax[2].set_xlabel('x')\n",
    "ax[2].set_ylabel('$\\int f(x)dx$')\n",
    "\n",
    "plt.tight_layout()"
   ]
  },
  {
   "cell_type": "code",
   "execution_count": null,
   "metadata": {},
   "outputs": [],
   "source": []
  }
 ],
 "metadata": {
  "celltoolbar": "Edit Metadata",
  "kernelspec": {
   "display_name": "Python 3 (ipykernel)",
   "language": "python",
   "name": "python3"
  },
  "language_info": {
   "codemirror_mode": {
    "name": "ipython",
    "version": 3
   },
   "file_extension": ".py",
   "mimetype": "text/x-python",
   "name": "python",
   "nbconvert_exporter": "python",
   "pygments_lexer": "ipython3",
   "version": "3.10.6"
  }
 },
 "nbformat": 4,
 "nbformat_minor": 4
}
